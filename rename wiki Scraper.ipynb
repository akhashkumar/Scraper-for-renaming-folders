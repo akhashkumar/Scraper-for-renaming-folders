{
 "cells": [
  {
   "cell_type": "code",
   "execution_count": 30,
   "metadata": {},
   "outputs": [
    {
     "ename": "AttributeError",
     "evalue": "'NoneType' object has no attribute 'get_text'",
     "output_type": "error",
     "traceback": [
      "\u001b[1;31m---------------------------------------------------------------------------\u001b[0m",
      "\u001b[1;31mAttributeError\u001b[0m                            Traceback (most recent call last)",
      "Cell \u001b[1;32mIn[30], line 45\u001b[0m\n\u001b[0;32m     43\u001b[0m basedir \u001b[39m=\u001b[39m \u001b[39mr\u001b[39m\u001b[39m'\u001b[39m\u001b[39mC:\u001b[39m\u001b[39m\\\u001b[39m\u001b[39mUsers\u001b[39m\u001b[39m\\\u001b[39m\u001b[39makhas\u001b[39m\u001b[39m\\\u001b[39m\u001b[39mDownloads\u001b[39m\u001b[39m\\\u001b[39m\u001b[39mNew folder (2)\u001b[39m\u001b[39m\\\u001b[39m\u001b[39mVideo\u001b[39m\u001b[39m\\\u001b[39m\u001b[39mMovies\u001b[39m\u001b[39m'\u001b[39m\n\u001b[0;32m     44\u001b[0m \u001b[39mfor\u001b[39;00m fn \u001b[39min\u001b[39;00m os\u001b[39m.\u001b[39mlistdir(basedir):\n\u001b[1;32m---> 45\u001b[0m     answer \u001b[39m=\u001b[39m scrap_film(fn)\n\u001b[0;32m     46\u001b[0m     \u001b[39m#print(basedir+\"\\\\\"+fn)\u001b[39;00m\n\u001b[0;32m     47\u001b[0m     \u001b[39mtry\u001b[39;00m:\n",
      "Cell \u001b[1;32mIn[30], line 17\u001b[0m, in \u001b[0;36mscrap_film\u001b[1;34m(file_name)\u001b[0m\n\u001b[0;32m     15\u001b[0m soup \u001b[39m=\u001b[39m BeautifulSoup(website, \u001b[39m\"\u001b[39m\u001b[39mhtml.parser\u001b[39m\u001b[39m\"\u001b[39m)\n\u001b[0;32m     16\u001b[0m titl \u001b[39m=\u001b[39m soup\u001b[39m.\u001b[39mfind(\u001b[39m'\u001b[39m\u001b[39mth\u001b[39m\u001b[39m'\u001b[39m,class_ \u001b[39m=\u001b[39m \u001b[39m'\u001b[39m\u001b[39minfobox-above summary\u001b[39m\u001b[39m'\u001b[39m)\n\u001b[1;32m---> 17\u001b[0m head \u001b[39m=\u001b[39m titl\u001b[39m.\u001b[39;49mget_text()\n\u001b[0;32m     18\u001b[0m \u001b[39mdict\u001b[39m[\u001b[39m'\u001b[39m\u001b[39mHead\u001b[39m\u001b[39m'\u001b[39m] \u001b[39m=\u001b[39m head\n\u001b[0;32m     19\u001b[0m lis\u001b[39m=\u001b[39msoup\u001b[39m.\u001b[39mfind_all(\u001b[39m'\u001b[39m\u001b[39mth\u001b[39m\u001b[39m'\u001b[39m, class_\u001b[39m=\u001b[39m \u001b[39m'\u001b[39m\u001b[39minfobox-label\u001b[39m\u001b[39m'\u001b[39m)\n",
      "\u001b[1;31mAttributeError\u001b[0m: 'NoneType' object has no attribute 'get_text'"
     ]
    }
   ],
   "source": [
    "from bs4 import BeautifulSoup \n",
    "import requests\n",
    "import os\n",
    "from googlesearch import search\n",
    "\n",
    "\n",
    "def scrap_film(file_name):\n",
    "    query = file_name+\" Wikipedia\"     \n",
    "    dict = {}\n",
    "    key = []\n",
    "    val = []\n",
    "    for j in search(query, tld=\"co.in\", stop =1):\n",
    "        string = j\n",
    "    website = requests.get(string).text\n",
    "    soup = BeautifulSoup(website, \"html.parser\")\n",
    "    titl = soup.find('th',class_ = 'infobox-above summary')\n",
    "    head = titl.get_text()\n",
    "    dict['Head'] = head\n",
    "    lis=soup.find_all('th', class_= 'infobox-label')\n",
    "    for li in lis:\n",
    "        label = li.get_text()\n",
    "        key.append(label)\n",
    "\n",
    "    lis_val = soup.find_all('td', class_= 'infobox-data')\n",
    "    for li_val in lis_val:\n",
    "        value = li_val.get_text()\n",
    "        val.append(value)\n",
    "\n",
    "    for i in range(len(key)):\n",
    "        dict[key[i]] = val[i]\n",
    "    year = dict['Release dates'].split()[-2].split(\"-\")[0]\n",
    "    director = dict['Directed by']\n",
    "    try:\n",
    "        lang = dict['Language']\n",
    "    except KeyError:\n",
    "        lang = dict[\"Languages\"]\n",
    "    head = dict[\"Head\"]\n",
    "    name = head+\" \"+year+\") [\"+director+\"]  [\"+lang+\"]\"\n",
    "    return name\n",
    "\n",
    "\n",
    "\n",
    "basedir = r'C:\\Users\\akhas\\Downloads\\New folder (2)\\Video\\Movies'\n",
    "for fn in os.listdir(basedir):\n",
    "    answer = scrap_film(fn)\n",
    "    #print(basedir+\"\\\\\"+fn)\n",
    "    try:\n",
    "     os.rename(basedir+\"\\\\\"+fn,basedir+\"\\\\\"+answer)\n",
    "    except OSError:\n",
    "        continue\n",
    "    \n"
   ]
  },
  {
   "attachments": {},
   "cell_type": "markdown",
   "metadata": {},
   "source": []
  },
  {
   "cell_type": "code",
   "execution_count": 22,
   "metadata": {},
   "outputs": [
    {
     "name": "stdout",
     "output_type": "stream",
     "text": [
      "Both Sides Of The Blade (2022) [720p] [BluRay] [YTS.MX]\n",
      "Bulbul Can Sing 2018.1080p.NF.WEB-Rip.DDP.5.1.HEVC-DDR[EtHD]\n",
      "Farha.2021.720p.WEB-DL.x265.10Bit-Pahe.in\n",
      "Utama (2022) [720p] [BluRay] [YTS.MX]\n"
     ]
    }
   ],
   "source": [
    "\n",
    "basedir =  r'C:\\Users\\akhas\\Downloads\\New folder (2)\\Video\\Movies'\n",
    "for fn in os.listdir(basedir):\n",
    "    print(fn)"
   ]
  }
 ],
 "metadata": {
  "kernelspec": {
   "display_name": "Python 3",
   "language": "python",
   "name": "python3"
  },
  "language_info": {
   "codemirror_mode": {
    "name": "ipython",
    "version": 3
   },
   "file_extension": ".py",
   "mimetype": "text/x-python",
   "name": "python",
   "nbconvert_exporter": "python",
   "pygments_lexer": "ipython3",
   "version": "3.10.0"
  },
  "orig_nbformat": 4,
  "vscode": {
   "interpreter": {
    "hash": "369f2c481f4da34e4445cda3fffd2e751bd1c4d706f27375911949ba6bb62e1c"
   }
  }
 },
 "nbformat": 4,
 "nbformat_minor": 2
}
